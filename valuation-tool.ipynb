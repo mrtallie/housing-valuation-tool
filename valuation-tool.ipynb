{
 "cells": [
  {
   "cell_type": "code",
   "execution_count": 1,
   "id": "152b9183",
   "metadata": {
    "_cell_guid": "b1076dfc-b9ad-4769-8c92-a6c4dae69d19",
    "_uuid": "8f2839f25d086af736a60e9eeb907d3b93b6e0e5",
    "execution": {
     "iopub.execute_input": "2023-05-31T20:05:50.592042Z",
     "iopub.status.busy": "2023-05-31T20:05:50.591195Z",
     "iopub.status.idle": "2023-05-31T20:05:52.125947Z",
     "shell.execute_reply": "2023-05-31T20:05:52.124771Z"
    },
    "papermill": {
     "duration": 1.544432,
     "end_time": "2023-05-31T20:05:52.129342",
     "exception": false,
     "start_time": "2023-05-31T20:05:50.584910",
     "status": "completed"
    },
    "tags": []
   },
   "outputs": [],
   "source": [
    "#Notebook Imports\n",
    "from sklearn.metrics import mean_squared_error\n",
    "from sklearn.linear_model import LinearRegression\n",
    "import numpy as np # linear algebra\n",
    "import pandas as pd # data processing, CSV file I/O (e.g. pd.read_csv)\n",
    "\n",
    "import warnings\n",
    "warnings.filterwarnings('ignore')"
   ]
  },
  {
   "cell_type": "code",
   "execution_count": 2,
   "id": "bb37d407",
   "metadata": {
    "execution": {
     "iopub.execute_input": "2023-05-31T20:05:52.142636Z",
     "iopub.status.busy": "2023-05-31T20:05:52.141841Z",
     "iopub.status.idle": "2023-05-31T20:05:52.206358Z",
     "shell.execute_reply": "2023-05-31T20:05:52.205473Z"
    },
    "papermill": {
     "duration": 0.074604,
     "end_time": "2023-05-31T20:05:52.209452",
     "exception": false,
     "start_time": "2023-05-31T20:05:52.134848",
     "status": "completed"
    },
    "tags": []
   },
   "outputs": [],
   "source": [
    "#Create a pandas dataframe\n",
    "data = pd.read_csv('/kaggle/input/housing-prices-dataset/Housing.csv')\n",
    "#converting/removing categorical data\n",
    "data['basement']=pd.get_dummies(data['basement'], drop_first=True)\n",
    "data['mainroad']=pd.get_dummies(data['mainroad'], drop_first=True)\n",
    "data['prefarea']=pd.get_dummies(data['prefarea'], drop_first=True)\n",
    "data['hotwaterheating']=pd.get_dummies(data['hotwaterheating'], drop_first=True)\n",
    "data['airconditioning']=pd.get_dummies(data['airconditioning'], drop_first=True)\n",
    "data['guestroom']=pd.get_dummies(data['guestroom'], drop_first=True)\n",
    "data=data.drop('furnishingstatus', axis='columns')\n",
    "features=data.drop(['bedrooms', 'price'], axis=1)\n",
    "\n",
    "log_prices=np.log(data['price'])\n",
    "target=pd.DataFrame(log_prices, columns=['price'])"
   ]
  },
  {
   "cell_type": "code",
   "execution_count": 3,
   "id": "6cc1b910",
   "metadata": {
    "execution": {
     "iopub.execute_input": "2023-05-31T20:05:52.220967Z",
     "iopub.status.busy": "2023-05-31T20:05:52.220119Z",
     "iopub.status.idle": "2023-05-31T20:05:52.230120Z",
     "shell.execute_reply": "2023-05-31T20:05:52.228764Z"
    },
    "papermill": {
     "duration": 0.018695,
     "end_time": "2023-05-31T20:05:52.233182",
     "exception": false,
     "start_time": "2023-05-31T20:05:52.214487",
     "status": "completed"
    },
    "tags": []
   },
   "outputs": [],
   "source": [
    "area_index=0\n",
    "bathrooms_index=1\n",
    "stories_index=2\n",
    "mainroad_index=3\n",
    "guestroom_index=4\n",
    "basement_index=5\n",
    "hotwaterheating_index=6\n",
    "airconditioning_index=7\n",
    "parking_index=8\n",
    "prefarea_index=9\n",
    "\n",
    "#property_stats=np.ndarray(shape=(1,11))\n",
    "#property_stats[0][price_index]=0.02\n",
    "property_stats=features.mean().values.reshape(1,10)"
   ]
  },
  {
   "cell_type": "code",
   "execution_count": 4,
   "id": "043d17d3",
   "metadata": {
    "execution": {
     "iopub.execute_input": "2023-05-31T20:05:52.242786Z",
     "iopub.status.busy": "2023-05-31T20:05:52.242345Z",
     "iopub.status.idle": "2023-05-31T20:05:52.281085Z",
     "shell.execute_reply": "2023-05-31T20:05:52.279779Z"
    },
    "papermill": {
     "duration": 0.046866,
     "end_time": "2023-05-31T20:05:52.283831",
     "exception": false,
     "start_time": "2023-05-31T20:05:52.236965",
     "status": "completed"
    },
    "tags": []
   },
   "outputs": [],
   "source": [
    "regression=LinearRegression().fit(features, target)\n",
    "fitted_values=regression.predict(features)\n",
    "\n",
    "MSE=mean_squared_error(target,fitted_values)\n",
    "RMSE=np.sqrt(MSE)"
   ]
  },
  {
   "cell_type": "code",
   "execution_count": 5,
   "id": "68b35cf6",
   "metadata": {
    "execution": {
     "iopub.execute_input": "2023-05-31T20:05:52.293509Z",
     "iopub.status.busy": "2023-05-31T20:05:52.293077Z",
     "iopub.status.idle": "2023-05-31T20:05:52.306128Z",
     "shell.execute_reply": "2023-05-31T20:05:52.305037Z"
    },
    "papermill": {
     "duration": 0.021027,
     "end_time": "2023-05-31T20:05:52.308836",
     "exception": false,
     "start_time": "2023-05-31T20:05:52.287809",
     "status": "completed"
    },
    "tags": []
   },
   "outputs": [],
   "source": [
    "def get_log_estimate(area, bathrooms, stories, parking, mainroad=True, guestroom=False, \n",
    "                     basement=True, hotwater=True, aircondition=True, prefarea=False, high_confidence=True):\n",
    "    #configure property\n",
    "    property_stats[0][area_index]=area\n",
    "    property_stats[0][bathrooms_index]=bathrooms\n",
    "    property_stats[0][stories_index]=stories\n",
    "    property_stats[0][parking_index]=parking\n",
    "    \n",
    "    if mainroad:\n",
    "        property_stats[0][mainroad_index]=1\n",
    "    else:\n",
    "        property_stats[0][mainroad_index]=0\n",
    "        \n",
    "    if guestroom:\n",
    "        property_stats[0][guestroom_index]=1\n",
    "    else:\n",
    "        property_stats[0][guestroom_index]=0\n",
    "        \n",
    "    if basement:\n",
    "        property_stats[0][basement_index]=1\n",
    "    else:\n",
    "        property_stats[0][basement_index]=0\n",
    "        \n",
    "    if hotwater:\n",
    "        property_stats[0][hotwaterheating_index]=1\n",
    "    else:\n",
    "        property_stats[0][hotwaterheating_index]=0\n",
    "        \n",
    "    if aircondition:\n",
    "        property_stats[0][airconditioning_index]=1\n",
    "    else:\n",
    "        property_stats[0][airconditioning_index]=0\n",
    "        \n",
    "    if prefarea:\n",
    "        property_stats[0][prefarea_index]=1\n",
    "    else:\n",
    "        property_stats[0][prefarea_index]=0\n",
    "    \n",
    "    #make prediction\n",
    "    log_estimate=regression.predict(property_stats)[0][0]\n",
    "    \n",
    "    #range\n",
    "    if high_confidence:\n",
    "        upper_bound=log_estimate+2*RMSE\n",
    "        lower_bound=log_estimate-2*RMSE\n",
    "        interval=95\n",
    "    else:\n",
    "        upper_bound=log_estimate+RMSE\n",
    "        lower_bound=log_estimate-RMSE\n",
    "        interval=68\n",
    "    return log_estimate, upper_bound, lower_bound, interval"
   ]
  },
  {
   "cell_type": "code",
   "execution_count": 6,
   "id": "051dc413",
   "metadata": {
    "execution": {
     "iopub.execute_input": "2023-05-31T20:05:52.320036Z",
     "iopub.status.busy": "2023-05-31T20:05:52.319418Z",
     "iopub.status.idle": "2023-05-31T20:05:52.327801Z",
     "shell.execute_reply": "2023-05-31T20:05:52.327010Z"
    },
    "papermill": {
     "duration": 0.01831,
     "end_time": "2023-05-31T20:05:52.330973",
     "exception": false,
     "start_time": "2023-05-31T20:05:52.312663",
     "status": "completed"
    },
    "tags": []
   },
   "outputs": [],
   "source": [
    "def get_dollar_estimate(area, bathrooms, stories, parking, mainroad=True, guestroom=False, basement=True, \n",
    "                        hotwater=True, aircondition=True, prefarea=False, high_confidence=True):\n",
    "    \n",
    "    \n",
    "    log_estimate, upper, lower, confidence = get_log_estimate(area, bathrooms, stories, parking, mainroad, guestroom, basement, hotwater, aircondition, prefarea, high_confidence)\n",
    "\n",
    "    #convert from log\n",
    "    dollar_estimate=np.e**log_estimate\n",
    "    dollar_high=np.e**upper\n",
    "    dollar_low=np.e**lower\n",
    "\n",
    "    #round to nearest thousand\n",
    "    rounded_estimate=np.around(dollar_estimate, -3)\n",
    "    rounded_high=np.around(dollar_high, -3)\n",
    "    rounded_low=np.around(dollar_low, -3)\n",
    "\n",
    "    print(f'The estimated property value is {rounded_estimate}.')\n",
    "    print(f'At {confidence}% confidence the valuation range is')\n",
    "    print(f'USD {rounded_low} at the low end to USD {rounded_high} at the high end.')"
   ]
  },
  {
   "cell_type": "code",
   "execution_count": null,
   "id": "ca166fb7",
   "metadata": {
    "papermill": {
     "duration": 0.004688,
     "end_time": "2023-05-31T20:05:52.340670",
     "exception": false,
     "start_time": "2023-05-31T20:05:52.335982",
     "status": "completed"
    },
    "tags": []
   },
   "outputs": [],
   "source": []
  },
  {
   "cell_type": "code",
   "execution_count": null,
   "id": "2bda974c",
   "metadata": {
    "papermill": {
     "duration": 0.00485,
     "end_time": "2023-05-31T20:05:52.349380",
     "exception": false,
     "start_time": "2023-05-31T20:05:52.344530",
     "status": "completed"
    },
    "tags": []
   },
   "outputs": [],
   "source": []
  },
  {
   "cell_type": "code",
   "execution_count": null,
   "id": "161b1342",
   "metadata": {
    "papermill": {
     "duration": 0.004479,
     "end_time": "2023-05-31T20:05:52.359149",
     "exception": false,
     "start_time": "2023-05-31T20:05:52.354670",
     "status": "completed"
    },
    "tags": []
   },
   "outputs": [],
   "source": []
  }
 ],
 "metadata": {
  "kernelspec": {
   "display_name": "Python 3",
   "language": "python",
   "name": "python3"
  },
  "language_info": {
   "codemirror_mode": {
    "name": "ipython",
    "version": 3
   },
   "file_extension": ".py",
   "mimetype": "text/x-python",
   "name": "python",
   "nbconvert_exporter": "python",
   "pygments_lexer": "ipython3",
   "version": "3.10.10"
  },
  "papermill": {
   "default_parameters": {},
   "duration": 15.057209,
   "end_time": "2023-05-31T20:05:53.386998",
   "environment_variables": {},
   "exception": null,
   "input_path": "__notebook__.ipynb",
   "output_path": "__notebook__.ipynb",
   "parameters": {},
   "start_time": "2023-05-31T20:05:38.329789",
   "version": "2.4.0"
  }
 },
 "nbformat": 4,
 "nbformat_minor": 5
}
